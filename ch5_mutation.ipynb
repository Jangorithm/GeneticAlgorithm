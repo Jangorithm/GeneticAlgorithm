{
 "cells": [
  {
   "cell_type": "code",
   "execution_count": 1,
   "metadata": {},
   "outputs": [
    {
     "name": "stdout",
     "output_type": "stream",
     "text": [
      "Original: [8.444218515250482, 7.579544029403024]\n",
      "Mutated: [8.444218515250482, 6.563195135214953]\n"
     ]
    }
   ],
   "source": [
    "import copy\n",
    "import random\n",
    "\n",
    "\n",
    "def mutation_random_deviation(ind, mu, sigma, p):\n",
    "    mut = copy.deepcopy(ind)\n",
    "    for i in range(len(mut)):\n",
    "        if random.random() < p:\n",
    "            mut[i] = mut[i] + random.gauss(mu, sigma)\n",
    "    return mut\n",
    "\n",
    "\n",
    "random.seed(0)\n",
    "\n",
    "ind = [random.uniform(0, 10) for _ in range(2)]\n",
    "mut = mutation_random_deviation(ind, 0, 1, 0.3)\n",
    "\n",
    "print(f'Original: {ind}')\n",
    "print(f'Mutated: {mut}')\n"
   ]
  },
  {
   "cell_type": "code",
   "execution_count": 2,
   "metadata": {},
   "outputs": [
    {
     "name": "stdout",
     "output_type": "stream",
     "text": [
      "Original: [1, 2, 3, 4, 5, 6]\n",
      "Mutated: [1, 5, 3, 4, 2, 6]\n"
     ]
    }
   ],
   "source": [
    "import copy\n",
    "import random\n",
    "\n",
    "\n",
    "def mutation_exchange(ind):\n",
    "    mut = copy.deepcopy(ind)\n",
    "    pos = random.sample(range(0, len(mut)), 2)\n",
    "    g1 = mut[pos[0]]\n",
    "    g2 = mut[pos[1]]\n",
    "    mut[pos[1]] = g1\n",
    "    mut[pos[0]] = g2\n",
    "    return mut\n",
    "\n",
    "\n",
    "random.seed(1)\n",
    "\n",
    "ind = list(range(1, 7))\n",
    "mut = mutation_exchange(ind)\n",
    "\n",
    "print(f'Original: {ind}')\n",
    "print(f'Mutated: {mut}')"
   ]
  },
  {
   "cell_type": "code",
   "execution_count": 3,
   "metadata": {},
   "outputs": [
    {
     "name": "stdout",
     "output_type": "stream",
     "text": [
      "Original: [1, 2, 3, 4, 5]\n",
      "Mutated: [1, 3, 4, 2, 5]\n"
     ]
    }
   ],
   "source": [
    "import copy\n",
    "import random\n",
    "from math import copysign\n",
    "\n",
    "\n",
    "def mutation_shift(ind):\n",
    "    mut = copy.deepcopy(ind)\n",
    "    pos = random.sample(range(0, len(mut)), 2)\n",
    "    g1 = mut[pos[0]]\n",
    "    dir = int(copysign(1, pos[1] - pos[0]))\n",
    "    for i in range(pos[0], pos[1], dir):\n",
    "        mut[i] = mut[i + dir]\n",
    "    mut[pos[1]] = g1\n",
    "    return mut\n",
    "\n",
    "\n",
    "random.seed(21)\n",
    "\n",
    "ind = list(range(1, 6))\n",
    "mut = mutation_shift(ind)\n",
    "\n",
    "print(f'Original: {ind}')\n",
    "print(f'Mutated: {mut}')"
   ]
  },
  {
   "cell_type": "code",
   "execution_count": 4,
   "metadata": {},
   "outputs": [
    {
     "name": "stdout",
     "output_type": "stream",
     "text": [
      "Original: [0, 1, 1, 1, 1]\n",
      "Mutated: [0, 0, 1, 1, 1]\n"
     ]
    }
   ],
   "source": [
    "import copy\n",
    "import random\n",
    "\n",
    "\n",
    "def mutation_bit_flip(ind):\n",
    "    mut = copy.deepcopy(ind)\n",
    "    pos = random.randint(0, len(ind) - 1)\n",
    "    g1 = mut[pos]\n",
    "    mut[pos] = (g1 + 1) % 2\n",
    "    return mut\n",
    "\n",
    "\n",
    "random.seed(21)\n",
    "\n",
    "ind = [random.randint(0, 1) for _ in range(0, 5)]\n",
    "mut = mutation_bit_flip(ind)\n",
    "\n",
    "print(f'Original: {ind}')\n",
    "print(f'Mutated: {mut}')"
   ]
  },
  {
   "cell_type": "code",
   "execution_count": 5,
   "metadata": {},
   "outputs": [
    {
     "name": "stdout",
     "output_type": "stream",
     "text": [
      "Original: [1, 2, 3, 4, 5]\n",
      "Mutated: [1, 2, 5, 4, 3]\n"
     ]
    }
   ],
   "source": [
    "import copy\n",
    "import random\n",
    "\n",
    "\n",
    "def mutation_inversion(ind):\n",
    "    mut = copy.deepcopy(ind)\n",
    "    temp = copy.deepcopy(ind)\n",
    "    pos = sorted(random.sample(range(0, len(mut)), 2))\n",
    "    for i in range(0, (pos[1] - pos[0]) + 1):\n",
    "        mut[pos[0] + i] = temp[pos[1] - i]\n",
    "\n",
    "    return mut\n",
    "\n",
    "\n",
    "random.seed(5)\n",
    "\n",
    "ind = list(range(1, 6))\n",
    "mut = mutation_inversion(ind)\n",
    "\n",
    "print(f'Original: {ind}')\n",
    "print(f'Mutated: {mut}')"
   ]
  },
  {
   "cell_type": "code",
   "execution_count": 6,
   "metadata": {},
   "outputs": [
    {
     "name": "stdout",
     "output_type": "stream",
     "text": [
      "Original: [1, 2, 3, 4, 5]\n",
      "Mutated: [1, 2, 4, 3, 5]\n"
     ]
    }
   ],
   "source": [
    "import copy\n",
    "import random\n",
    "\n",
    "\n",
    "def mutation_shuffle(ind):\n",
    "    mut = copy.deepcopy(ind)\n",
    "    pos = sorted(random.sample(range(0, len(mut)), 2))\n",
    "    subrange = mut[pos[0]:pos[1] + 1]\n",
    "    random.shuffle(subrange)\n",
    "    mut[pos[0]:pos[1] + 1] = subrange\n",
    "\n",
    "    return mut\n",
    "\n",
    "\n",
    "random.seed(13)\n",
    "\n",
    "ind = list(range(1, 6))\n",
    "mut = mutation_shuffle(ind)\n",
    "\n",
    "print(f'Original: {ind}')\n",
    "print(f'Mutated: {mut}')"
   ]
  },
  {
   "cell_type": "code",
   "execution_count": 7,
   "metadata": {},
   "outputs": [
    {
     "name": "stdout",
     "output_type": "stream",
     "text": [
      "Original: (x: -7.863429245966886, fitness: -2.57264122083915)\n",
      "Mutated: (x: -9.234406613571194, fitness: -2.036104869181974)\n"
     ]
    }
   ],
   "source": [
    "import copy\n",
    "import random\n",
    "from math import sin\n",
    "from typing import List\n",
    "\n",
    "def func(x):\n",
    "    return sin(x) - .2 * abs(x)\n",
    "\n",
    "class Individual:\n",
    "\n",
    "    def __init__(self, gene_list: List[float]) -> None:\n",
    "        self.gene_list = gene_list\n",
    "        self.fitness = func(self.gene_list[0])\n",
    "\n",
    "    def __str__(self):\n",
    "        return f'x: {self.gene_list[0]}, fitness: {self.fitness}'\n",
    "\n",
    "\n",
    "def mutation_fitness_driven_random_deviation(ind, mu, sigma, p, max_tries = 3):\n",
    "    for t in range(0, max_tries):\n",
    "        mut_genes = copy.deepcopy(ind.gene_list)\n",
    "        for i in range(len(mut_genes)):\n",
    "            if random.random() < p:\n",
    "                mut_genes[i] = mut_genes[i] + random.gauss(mu, sigma)\n",
    "        mut = Individual(mut_genes)\n",
    "        if ind.fitness < mut.fitness:\n",
    "            return mut\n",
    "    return ind\n",
    "\n",
    "random.seed(14)\n",
    "\n",
    "ind = Individual([random.uniform(-10, 10)])\n",
    "mut = mutation_fitness_driven_random_deviation(ind, 0, 1, 3)\n",
    "\n",
    "print(f'Original: ({ind})')\n",
    "print(f'Mutated: ({mut})')\n"
   ]
  },
  {
   "cell_type": "code",
   "execution_count": null,
   "metadata": {},
   "outputs": [],
   "source": []
  }
 ],
 "metadata": {
  "kernelspec": {
   "display_name": "Python 3 (ipykernel)",
   "language": "python",
   "name": "python3"
  },
  "language_info": {
   "codemirror_mode": {
    "name": "ipython",
    "version": 3
   },
   "file_extension": ".py",
   "mimetype": "text/x-python",
   "name": "python",
   "nbconvert_exporter": "python",
   "pygments_lexer": "ipython3",
   "version": "3.8.10"
  }
 },
 "nbformat": 4,
 "nbformat_minor": 4
}
