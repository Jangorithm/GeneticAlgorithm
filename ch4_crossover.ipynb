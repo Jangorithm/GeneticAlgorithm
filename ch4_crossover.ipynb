{
 "cells": [
  {
   "cell_type": "code",
   "execution_count": 1,
   "metadata": {},
   "outputs": [
    {
     "name": "stdout",
     "output_type": "stream",
     "text": [
      "Parent 1: [0, 1, 1, 5, 2]\n",
      "Parent 2: [4, 4, 9, 3, 9]\n",
      "Child 1: [0, 4, 9, 3, 9]\n",
      "Child 2: [4, 1, 1, 5, 2]\n"
     ]
    }
   ],
   "source": [
    "import copy\n",
    "import random\n",
    "\n",
    "\n",
    "def crossover_one_point(p1, p2):\n",
    "    point = random.randint(1, len(p1) - 1)\n",
    "    c1, c2 = copy.deepcopy(p1), copy.deepcopy(p2)\n",
    "    c1[point:], c2[point:] = p2[point:], p1[point:]\n",
    "    return [c1, c2]\n",
    "\n",
    "\n",
    "random.seed(2)\n",
    "\n",
    "p1 = [random.randint(0, 9) for _ in range(5)]\n",
    "p2 = [random.randint(0, 9) for _ in range(5)]\n",
    "\n",
    "offspring = crossover_one_point(p1, p2)\n",
    "\n",
    "print(f'Parent 1: {p1}')\n",
    "print(f'Parent 2: {p2}')\n",
    "print(f'Child 1: {offspring[0]}')\n",
    "print(f'Child 2: {offspring[1]}')"
   ]
  },
  {
   "cell_type": "code",
   "execution_count": 2,
   "metadata": {},
   "outputs": [
    {
     "name": "stdout",
     "output_type": "stream",
     "text": [
      "Parent 1: [3, 9, 8, 2, 5, 9]\n",
      "Parent 2: [17, 19, 11, 19, 10, 17]\n",
      "Child 1: [3, 19, 11, 2, 10, 17]\n",
      "Child 2: [17, 9, 8, 19, 5, 9]\n"
     ]
    }
   ],
   "source": [
    "import copy\n",
    "import random\n",
    "\n",
    "\n",
    "def crossover_n_point(p1, p2, n):\n",
    "    ps = random.sample(range(1, len(p1) - 1), n)\n",
    "    ps.append(0)\n",
    "    ps.append(len(p1))\n",
    "    ps = sorted(ps)\n",
    "    c1, c2 = copy.deepcopy(p1), copy.deepcopy(p2)\n",
    "    for i in range(0, n + 1):\n",
    "        if i % 2 == 0:\n",
    "            continue\n",
    "        c1[ps[i]:ps[i + 1]] = p2[ps[i]:ps[i + 1]]\n",
    "        c2[ps[i]:ps[i + 1]] = p1[ps[i]:ps[i + 1]]\n",
    "    return [c1, c2]\n",
    "\n",
    "\n",
    "random.seed(3)\n",
    "\n",
    "p1 = [random.randint(0, 9) for _ in range(6)]\n",
    "p2 = [random.randint(10, 19) for _ in range(6)]\n",
    "\n",
    "offspring = crossover_n_point(p1, p2, 3)\n",
    "\n",
    "print(f'Parent 1: {p1}')\n",
    "print(f'Parent 2: {p2}')\n",
    "print(f'Child 1: {offspring[0]}')\n",
    "print(f'Child 2: {offspring[1]}')"
   ]
  },
  {
   "cell_type": "code",
   "execution_count": 3,
   "metadata": {
    "scrolled": true
   },
   "outputs": [
    {
     "name": "stdout",
     "output_type": "stream",
     "text": [
      "Parent 1: [3, 9, 8, 2, 5, 9]\n",
      "Parent 2: [17, 19, 11, 19, 10, 17]\n",
      "Child 1: [17, 19, 8, 19, 5, 17]\n",
      "Child 2: [3, 9, 11, 2, 10, 9]\n"
     ]
    }
   ],
   "source": [
    "import copy\n",
    "import random\n",
    "\n",
    "\n",
    "def crossover_uniform(p1, p2, prop):\n",
    "    c1 = copy.deepcopy(p1)\n",
    "    c2 = copy.deepcopy(p2)\n",
    "\n",
    "    for i in range(len(p1)):\n",
    "        if random.random() < prop:\n",
    "            c1[i], c2[i] = p2[i], p1[i]\n",
    "\n",
    "    return [c1, c2]\n",
    "\n",
    "\n",
    "random.seed(3)\n",
    "\n",
    "p1 = [random.randint(0, 9) for _ in range(6)]\n",
    "p2 = [random.randint(10, 19) for _ in range(6)]\n",
    "\n",
    "offspring = crossover_uniform(p1, p2, 0.5)\n",
    "\n",
    "print(f'Parent 1: {p1}')\n",
    "print(f'Parent 2: {p2}')\n",
    "print(f'Child 1: {offspring[0]}')\n",
    "print(f'Child 2: {offspring[1]}')"
   ]
  },
  {
   "cell_type": "code",
   "execution_count": 3,
   "metadata": {},
   "outputs": [],
   "source": [
    "def crossover_linear(p1, p2, alpha):\n",
    "    c1 = copy.deepcopy(p1)\n",
    "    c2 = copy.deepcopy(p2)\n",
    "\n",
    "\n",
    "    for i in range(len(p1)):        \n",
    "        c1[i] = round(p1[i] + alpha * (p2[i] - p1[i]), 2)\n",
    "        c2[i] = round(p2[i] - alpha * (p2[i] - p1[i]), 2)\n",
    "        \n",
    "    return [c1, c2]"
   ]
  },
  {
   "cell_type": "code",
   "execution_count": 1,
   "metadata": {},
   "outputs": [
    {
     "name": "stdout",
     "output_type": "stream",
     "text": [
      "Parent 1: [2.38, 5.44, 3.7, 6.04, 6.26, 0.66]\n",
      "Parent 2: [0.13, 8.37, 2.59, 2.34, 9.96, 4.7]\n",
      "Child 1: [1.71, 6.32, 3.37, 4.93, 7.37, 1.87]\n",
      "Child 2: [0.8, 7.49, 2.92, 3.45, 8.85, 3.49]\n"
     ]
    }
   ],
   "source": [
    "import copy\n",
    "import random\n",
    "\n",
    "\n",
    "def crossover_linear(p1, p2, alpha):\n",
    "    c1 = copy.deepcopy(p1)\n",
    "    c2 = copy.deepcopy(p2)\n",
    "\n",
    "\n",
    "    for i in range(len(p1)):\n",
    "\n",
    "        c1[i] = round(p1[i] + alpha * (p2[i] - p1[i]), 2)\n",
    "        c2[i] = round(p2[i] - alpha * (p2[i] - p1[i]), 2)\n",
    "        \n",
    "    return [c1, c2]\n",
    "\n",
    "\n",
    "random.seed(3)\n",
    "\n",
    "p1 = [round(random.uniform(0, 10), 2) for _ in range(6)]\n",
    "p2 = [round(random.uniform(0, 10), 2) for _ in range(6)]\n",
    "\n",
    "offspring = crossover_linear(p1, p2, 0.3)\n",
    "\n",
    "print(f'Parent 1: {p1}')\n",
    "print(f'Parent 2: {p2}')\n",
    "print(f'Child 1: {offspring[0]}')\n",
    "print(f'Child 2: {offspring[1]}')"
   ]
  },
  {
   "cell_type": "code",
   "execution_count": 5,
   "metadata": {},
   "outputs": [
    {
     "name": "stdout",
     "output_type": "stream",
     "text": [
      "Parent 1: [2.38, 5.44, 3.7, 6.04, 6.26, 0.66]\n",
      "Parent 2: [0.13, 8.37, 2.59, 2.34, 9.96, 4.7]\n",
      "Child 1: [2.77, 7.72, 3.44, 4.36, 9.38, 4.77]\n",
      "Child 2: [1.15, 4.86, 3.96, 5.98, 4.88, 3.42]\n"
     ]
    }
   ],
   "source": [
    "import copy\n",
    "import random\n",
    "\n",
    "\n",
    "def crossover_blend(p1, p2, alpha):\n",
    "    c1 = copy.deepcopy(p1)\n",
    "    c2 = copy.deepcopy(p2)\n",
    "\n",
    "    for i in range(len(p1)):\n",
    "        l = min(c1[i], c2[i]) - alpha * abs(c2[i] - c1[i])\n",
    "        u = max(c1[i], c2[i]) + alpha * abs(c2[i] - c1[i])\n",
    "        c1[i] = round(l + random.random() * (u - l), 2)\n",
    "        c2[i] = round(l + random.random() * (u - l), 2)\n",
    "\n",
    "    return [c1, c2]\n",
    "\n",
    "\n",
    "random.seed(3)\n",
    "\n",
    "p1 = [round(random.uniform(0, 10), 2) for _ in range(6)]\n",
    "p2 = [round(random.uniform(0, 10), 2) for _ in range(6)]\n",
    "\n",
    "offspring = crossover_blend(p1, p2, 0.5)\n",
    "\n",
    "print(f'Parent 1: {p1}')\n",
    "print(f'Parent 2: {p2}')\n",
    "print(f'Child 1: {offspring[0]}')\n",
    "print(f'Child 2: {offspring[1]}')"
   ]
  },
  {
   "cell_type": "code",
   "execution_count": 6,
   "metadata": {},
   "outputs": [
    {
     "name": "stdout",
     "output_type": "stream",
     "text": [
      "Parent 1: [1, 7, 4, 5, 9, 2, 8, 3, 6]\n",
      "Parent 2: [3, 1, 5, 4, 9, 8, 6, 2, 7]\n",
      "Child 1: [7, 2, 5, 4, 9, 8, 6, 3, 1]\n",
      "Child 2: [1, 6, 4, 5, 9, 2, 8, 7, 3]\n"
     ]
    }
   ],
   "source": [
    "import random\n",
    "from math import nan\n",
    "\n",
    "\n",
    "def crossover_order(p1, p2):\n",
    "    zero_shift = min(p1)\n",
    "    length = len(p1)\n",
    "    start, end = sorted([random.randrange(length) for _ in range(2)])\n",
    "    c1, c2 = [nan] * length, [nan] * length\n",
    "    t1, t2 = [x - zero_shift for x in p1], [x - zero_shift for x in p2]\n",
    "\n",
    "    spaces1, spaces2 = [True] * length, [True] * length\n",
    "    for i in range(length):\n",
    "        if i < start or i > end:\n",
    "            spaces1[t2[i]] = False\n",
    "            spaces2[t1[i]] = False\n",
    "\n",
    "    j1, j2 = end + 1, end + 1\n",
    "    for i in range(length):\n",
    "        if not spaces1[t1[(end + i + 1) % length]]:\n",
    "            c1[j1 % length] = t1[(end + i + 1) % length]\n",
    "            j1 += 1\n",
    "\n",
    "        if not spaces2[t2[(i + end + 1) % length]]:\n",
    "            c2[j2 % length] = t2[(i + end + 1) % length]\n",
    "            j2 += 1\n",
    "\n",
    "    for i in range(start, end + 1):\n",
    "        c1[i], c2[i] = t2[i], t1[i]\n",
    "\n",
    "    return [[x + zero_shift for x in c1], [x + zero_shift for x in c2]]\n",
    "\n",
    "\n",
    "random.seed(10)\n",
    "\n",
    "p1 = random.sample(range(1, 10), 9)\n",
    "p2 = random.sample(range(1, 10), 9)\n",
    "\n",
    "offspring = crossover_order(p1, p2)\n",
    "\n",
    "print(f'Parent 1: {p1}')\n",
    "print(f'Parent 2: {p2}')\n",
    "print(f'Child 1: {offspring[0]}')\n",
    "print(f'Child 2: {offspring[1]}')\n"
   ]
  },
  {
   "cell_type": "code",
   "execution_count": 7,
   "metadata": {},
   "outputs": [
    {
     "name": "stdout",
     "output_type": "stream",
     "text": [
      "Parent 1: x: 0.24, y: 0.54, fitness: 0.2039\n",
      "Parent 2: x: 0.37, y: 0.6, fitness: 0.2985\n",
      "Child 1: x: 0.37, y: 0.6, fitness: 0.2985\n",
      "Child 2: x: 0.34, y: 0.51, fitness: 0.291\n"
     ]
    }
   ],
   "source": [
    "import copy\n",
    "import random\n",
    "from math import sin, cos\n",
    "\n",
    "\n",
    "def fitness_function(x, y):\n",
    "    return sin(x) * cos(y)\n",
    "\n",
    "\n",
    "class Individual:\n",
    "\n",
    "    def __init__(self, x, y) -> None:\n",
    "        self.gene_set = [x, y]\n",
    "        self.fitness = fitness_function(x, y)\n",
    "\n",
    "    def __str__(self):\n",
    "        return f'x: {self.gene_set[0]}, '\\\n",
    "               f'y: {self.gene_set[1]}, '\\\n",
    "               f'fitness: {round(self.fitness, 4)}'\n",
    "\n",
    "\n",
    "def generate_random():\n",
    "    return Individual(round(random.random(), 2), round(random.random(), 2))\n",
    "\n",
    "\n",
    "def crossover_fitness_driven_blend(ind1, ind2, alpha):\n",
    "    c1 = copy.deepcopy(ind1.gene_set)\n",
    "    c2 = copy.deepcopy(ind2.gene_set)\n",
    "\n",
    "    for i in range(len(c1)):\n",
    "        l = min(c1[i], c2[i]) - alpha * abs(c2[i] - c1[i])\n",
    "        u = max(c1[i], c2[i]) + alpha * abs(c2[i] - c1[i])\n",
    "        c1[i] = round(l + random.random() * (u - l), 2)\n",
    "        c2[i] = round(l + random.random() * (u - l), 2)\n",
    "\n",
    "    child1 = Individual(c1[0], c1[1])\n",
    "    child2 = Individual(c1[0], c1[1])\n",
    "\n",
    "    candidates = [ind1, ind2, child1, child2]\n",
    "\n",
    "    best = sorted(candidates, key = lambda ind: ind.fitness, reverse = True)\n",
    "\n",
    "    return best[0:2]\n",
    "\n",
    "\n",
    "random.seed(3)\n",
    "\n",
    "p1, p2 = generate_random(), generate_random()\n",
    "\n",
    "offspring = crossover_fitness_driven_blend(p1, p2, 0.5)\n",
    "\n",
    "print(f'Parent 1: {p1}')\n",
    "print(f'Parent 2: {p2}')\n",
    "\n",
    "print(f'Child 1: {offspring[0]}')\n",
    "print(f'Child 2: {offspring[1]}')\n"
   ]
  },
  {
   "cell_type": "code",
   "execution_count": null,
   "metadata": {},
   "outputs": [],
   "source": []
  }
 ],
 "metadata": {
  "kernelspec": {
   "display_name": "Python 3 (ipykernel)",
   "language": "python",
   "name": "python3"
  },
  "language_info": {
   "codemirror_mode": {
    "name": "ipython",
    "version": 3
   },
   "file_extension": ".py",
   "mimetype": "text/x-python",
   "name": "python",
   "nbconvert_exporter": "python",
   "pygments_lexer": "ipython3",
   "version": "3.8.10"
  }
 },
 "nbformat": 4,
 "nbformat_minor": 4
}
